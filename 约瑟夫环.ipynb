{
 "cells": [
  {
   "cell_type": "code",
   "execution_count": 11,
   "metadata": {},
   "outputs": [],
   "source": [
    "import sys\n",
    "sys.path.append('D:\\python\\git learning\\learning')\n",
    "import models.reader\n",
    "import models.Josephus\n",
    "import models.test"
   ]
  },
  {
   "cell_type": "code",
   "execution_count": 12,
   "metadata": {},
   "outputs": [],
   "source": [
    "class Counter(object):\n",
    "    count = 0"
   ]
  },
  {
   "cell_type": "code",
   "execution_count": 13,
   "metadata": {},
   "outputs": [],
   "source": [
    "class Player(Counter):\n",
    "    def __init__(self, name, gender, age):\n",
    "        self.name = name\n",
    "        self.gender = gender \n",
    "        self.age = age\n",
    "        Counter.count += 1"
   ]
  },
  {
   "cell_type": "code",
   "execution_count": 14,
   "metadata": {
    "tags": []
   },
   "outputs": [
    {
     "output_type": "stream",
     "name": "stdout",
     "text": "[['王娇', '女', '22'], ['严文君', '女', '22'], ['邓诗弋', '女', '22'], ['王洁茹', '女', '21'], ['贺霞', '女', '20'], ['崔祎璐', '女', '22']]\n"
    }
   ],
   "source": [
    "file_name = \"player_list.txt\"\n",
    "people_list = []\n",
    "f = reader.Reader(file_name)\n",
    "f.read_file()\n",
    "for i in range(len(f.func.content)):\n",
    "    people_list.append(Player(f.func.content[i][0], f.func.content[i][1], f.func.content[i][2]))\n"
   ]
  },
  {
   "cell_type": "code",
   "execution_count": 15,
   "metadata": {
    "tags": []
   },
   "outputs": [
    {
     "output_type": "stream",
     "name": "stdout",
     "text": "存活的人是贺霞, 性别为女, 年龄是20\n"
    }
   ],
   "source": [
    "start = input(\"请输入开始数字\")\n",
    "step = input(\"请输入报数数字\")\n",
    "josephus = Josephus.Josephus(int(start), int(step), people_list)\n",
    "for i in range(len(people_list)-1):\n",
    "    josephus.next()\n",
    "print(\"存活的人是%s, 性别为%s, 年龄是%s\"%(josephus.people[0].name, josephus.people[0].gender, josephus.people[0].age))"
   ]
  },
  {
   "cell_type": "code",
   "execution_count": 16,
   "metadata": {},
   "outputs": [],
   "source": [
    "test.test_output()"
   ]
  },
  {
   "cell_type": "code",
   "execution_count": 17,
   "metadata": {
    "tags": []
   },
   "outputs": [
    {
     "output_type": "stream",
     "name": "stdout",
     "text": "[['1'], ['2'], ['3']]\n"
    }
   ],
   "source": [
    "test.test_txt_reader()"
   ]
  },
  {
   "cell_type": "code",
   "execution_count": 18,
   "metadata": {
    "tags": []
   },
   "outputs": [
    {
     "output_type": "stream",
     "name": "stdout",
     "text": "[['1'], ['2'], ['3']]\n"
    }
   ],
   "source": [
    "test.test_csv_reader()"
   ]
  },
  {
   "cell_type": "code",
   "execution_count": 19,
   "metadata": {
    "tags": []
   },
   "outputs": [
    {
     "output_type": "stream",
     "name": "stdout",
     "text": "file: test.txt\nfile: test.csv\n[['1'], ['2'], ['3']]\n"
    }
   ],
   "source": [
    "test.test_zip_reader()"
   ]
  },
  {
   "cell_type": "code",
   "execution_count": null,
   "metadata": {},
   "outputs": [],
   "source": []
  }
 ],
 "metadata": {
  "language_info": {
   "codemirror_mode": {
    "name": "ipython",
    "version": 3
   },
   "file_extension": ".py",
   "mimetype": "text/x-python",
   "name": "python",
   "nbconvert_exporter": "python",
   "pygments_lexer": "ipython3",
   "version": "3.7.0-final"
  },
  "orig_nbformat": 2,
  "kernelspec": {
   "name": "python3",
   "display_name": "Python 3"
  }
 },
 "nbformat": 4,
 "nbformat_minor": 2
}