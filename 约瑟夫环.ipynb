{
 "cells": [
  {
   "cell_type": "code",
   "execution_count": 306,
   "metadata": {},
   "outputs": [],
   "source": [
    "class counter(object):\n",
    "    count = 0"
   ]
  },
  {
   "cell_type": "code",
   "execution_count": 307,
   "metadata": {},
   "outputs": [],
   "source": [
    "class player(counter):\n",
    "    def __init__(self, name, gender, age):\n",
    "        self.name = name\n",
    "        self.gender = gender \n",
    "        self.age = age\n",
    "        counter.count += 1"
   ]
  },
  {
   "cell_type": "code",
   "execution_count": 308,
   "metadata": {},
   "outputs": [],
   "source": [
    "file_name = \"player_list.txt\"\n",
    "f = open(file_name,'r', encoding=\"utf-8\")\n",
    "data = []\n",
    "players = [0,1,2,3,4,5]\n",
    "obj = {}"
   ]
  },
  {
   "cell_type": "code",
   "execution_count": 309,
   "metadata": {
    "tags": []
   },
   "outputs": [],
   "source": [
    "for line in f.readlines():\n",
    "        eachline = line.strip(\"\\n\") #按行读取文本文件，每行数据以列表形式返回\n",
    "        data.append(eachline)\n",
    "for i in range(len(data)):\n",
    "    each_player = data[i].split(\" \")\n",
    "    obj['player'+str(i)] = player(each_player[0],each_player[1],each_player[2])"
   ]
  },
  {
   "cell_type": "code",
   "execution_count": 310,
   "metadata": {},
   "outputs": [],
   "source": [
    "f.close()"
   ]
  },
  {
   "cell_type": "code",
   "execution_count": 311,
   "metadata": {},
   "outputs": [],
   "source": [
    "def jose_ring(num, key):  #n为参与游戏的总人数，K为报数值\n",
    "    lst_people = list(range(1,num+1))  #创建一个人数的列表\n",
    "    i=0\n",
    "    while len(lst_people) != 1:\n",
    "        temp = lst_people.pop(0)  #第一个人放入末尾\n",
    "        i += 1\n",
    "        if i == key:  #报到第k个人\n",
    "            i = 0  #重新开始计数\n",
    "            continue\n",
    "        lst_people.append(temp)\n",
    "    the_last = str(lst_people[0])\n",
    "    print(\"最后幸存的人是：%s, 性别：%s, 年龄：%s\"%(obj['player'+the_last].name, obj['player'+the_last].gender, obj['player'+the_last].age))"
   ]
  },
  {
   "cell_type": "code",
   "execution_count": 312,
   "metadata": {
    "tags": []
   },
   "outputs": [
    {
     "output_type": "stream",
     "name": "stdout",
     "text": "最后幸存的人是：严文君, 性别：女, 年龄：22\n"
    }
   ],
   "source": [
    "if __name__ == '__main__':\n",
    "    num = counter.count\n",
    "    key = int(input(\"请输入报数值：\"))\n",
    "    jose_ring(num, key)"
   ]
  },
  {
   "cell_type": "code",
   "execution_count": null,
   "metadata": {},
   "outputs": [],
   "source": []
  }
 ],
 "metadata": {
  "language_info": {
   "codemirror_mode": {
    "name": "ipython",
    "version": 3
   },
   "file_extension": ".py",
   "mimetype": "text/x-python",
   "name": "python",
   "nbconvert_exporter": "python",
   "pygments_lexer": "ipython3",
   "version": "3.7.0-final"
  },
  "orig_nbformat": 2,
  "kernelspec": {
   "name": "python3",
   "display_name": "Python 3"
  }
 },
 "nbformat": 4,
 "nbformat_minor": 2
}