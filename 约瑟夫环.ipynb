{
 "cells": [
  {
   "cell_type": "code",
   "execution_count": 144,
   "metadata": {},
   "outputs": [],
   "source": [
    "class Counter(object):\n",
    "    count = 0"
   ]
  },
  {
   "cell_type": "code",
   "execution_count": 103,
   "metadata": {},
   "outputs": [],
   "source": [
    "class Josephus(object):\n",
    "    def  __init__(self, start, step, people):\n",
    "        self.people = people\n",
    "        self.start = start\n",
    "        self.step = step\n",
    "        self.total_number = len(self.people)\n",
    "    def append(self, person):\n",
    "        self.people.append(person)\n",
    "    def pop(self, person):\n",
    "        self.people.pop(person)\n",
    "    def __iter__(self):\n",
    "        return self\n",
    "    def next(self):\n",
    "        if len(self.people) > 0:\n",
    "            out_key = (self.start + self.step - 1) % self.total_number\n",
    "            self.pop(out_key)\n",
    "            self.start = out_key\n",
    "            self.total_number -= 1\n",
    "        else:\n",
    "            raise StopIteration"
   ]
  },
  {
   "cell_type": "code",
   "execution_count": 104,
   "metadata": {},
   "outputs": [],
   "source": [
    "class Player(Counter):\n",
    "    def __init__(self, name, gender, age):\n",
    "        self.name = name\n",
    "        self.gender = gender \n",
    "        self.age = age\n",
    "        Counter.count += 1"
   ]
  },
  {
   "cell_type": "code",
   "execution_count": 145,
   "metadata": {},
   "outputs": [],
   "source": [
    "person_list = []\n",
    "each_person = []\n",
    "people_list = []"
   ]
  },
  {
   "cell_type": "code",
   "execution_count": 146,
   "metadata": {
    "tags": []
   },
   "outputs": [],
   "source": [
    "def read_info(file_name):\n",
    "    f = open(file_name, 'r', encoding='utf-8')\n",
    "    for line in f.readlines():\n",
    "        eachline = line.strip(\"\\n\")\n",
    "        person_list.append(eachline)\n",
    "    for i in range(len(person_list)):\n",
    "        each_person.append(person_list[i].split(\" \")) \n",
    "        people_list.append(Player(each_person[i][0], each_person[i][1], each_person[i][2]))\n",
    "    f.close()"
   ]
  },
  {
   "cell_type": "code",
   "execution_count": 147,
   "metadata": {},
   "outputs": [],
   "source": [
    "def test_output():\n",
    "    test_list = ['1', '2', '3']\n",
    "    test_start = 0\n",
    "    test_step = 3\n",
    "    test_jose = Josephus(int(test_start), int(test_step), test_list)\n",
    "    for i in range(len(test_list)-1):\n",
    "        test_jose.next()\n",
    "    assert test_jose.people[0] == '2'"
   ]
  },
  {
   "cell_type": "code",
   "execution_count": 148,
   "metadata": {
    "tags": []
   },
   "outputs": [
    {
     "output_type": "stream",
     "name": "stdout",
     "text": "存活的人是王娇, 性别为女, 年龄是22\n"
    }
   ],
   "source": [
    "file_name = \"player_list.txt\"\n",
    "read_info(file_name)\n",
    "start = input(\"请输入开始数字\")\n",
    "step = input(\"请输入报数数字\")\n",
    "josephus = Josephus(int(start), int(step), people_list)\n",
    "for i in range(len(people_list)-1):\n",
    "    josephus.next()\n",
    "print(\"存活的人是%s, 性别为%s, 年龄是%s\"%(josephus.people[0].name, josephus.people[0].gender, josephus.people[0].age))"
   ]
  },
  {
   "cell_type": "code",
   "execution_count": 149,
   "metadata": {},
   "outputs": [],
   "source": [
    "test_output()"
   ]
  },
  {
   "cell_type": "code",
   "execution_count": null,
   "metadata": {},
   "outputs": [],
   "source": []
  }
 ],
 "metadata": {
  "language_info": {
   "codemirror_mode": {
    "name": "ipython",
    "version": 3
   },
   "file_extension": ".py",
   "mimetype": "text/x-python",
   "name": "python",
   "nbconvert_exporter": "python",
   "pygments_lexer": "ipython3",
   "version": "3.7.0-final"
  },
  "orig_nbformat": 2,
  "kernelspec": {
   "name": "python3",
   "display_name": "Python 3"
  }
 },
 "nbformat": 4,
 "nbformat_minor": 2
}