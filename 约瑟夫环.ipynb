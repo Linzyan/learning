{
 "cells": [
  {
   "cell_type": "code",
   "execution_count": 3,
   "metadata": {},
   "outputs": [],
   "source": [
    "def jose_ring(n,k):\n",
    "    lst_people=list(range(1,n+1))\n",
    "    i=0\n",
    "    while lst_people:\n",
    "        temp=lst_people.pop(0)\n",
    "        i+=1\n",
    "        if i==k:\n",
    "            i=0\n",
    "            continue\n",
    "        lst_people.append(temp)\n",
    "        if len(lst_people)==2:\n",
    "            print(lst_people)\n",
    "            break"
   ]
  },
  {
   "cell_type": "code",
   "execution_count": 4,
   "metadata": {
    "tags": []
   },
   "outputs": [
    {
     "output_type": "stream",
     "name": "stdout",
     "text": "[11, 43]\n"
    }
   ],
   "source": [
    "if __name__ == '__main__':\n",
    "    num=int(input(\"请输入总人数：\"))\n",
    "    key=int(input(\"请输入报数值：\"))\n",
    "    jose_ring(num,key)"
   ]
  },
  {
   "cell_type": "code",
   "execution_count": null,
   "metadata": {},
   "outputs": [],
   "source": []
  }
 ],
 "metadata": {
  "language_info": {
   "codemirror_mode": {
    "name": "ipython",
    "version": 3
   },
   "file_extension": ".py",
   "mimetype": "text/x-python",
   "name": "python",
   "nbconvert_exporter": "python",
   "pygments_lexer": "ipython3",
   "version": "3.7.0-final"
  },
  "orig_nbformat": 2,
  "kernelspec": {
   "name": "python3",
   "display_name": "Python 3"
  }
 },
 "nbformat": 4,
 "nbformat_minor": 2
}