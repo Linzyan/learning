{
 "cells": [
  {
   "cell_type": "code",
   "execution_count": 16,
   "metadata": {},
   "outputs": [],
   "source": [
    "class Counter(object):\n",
    "    count = 0"
   ]
  },
  {
   "cell_type": "code",
   "execution_count": 28,
   "metadata": {},
   "outputs": [],
   "source": [
    "class Josephus(object):\n",
    "    def  __init__(self,start,step):\n",
    "        self.people = []\n",
    "        self.i = 0\n",
    "        self.start = start\n",
    "        self.step = step\n",
    "    @property\n",
    "    def append(self, person):\n",
    "        self.people.append(person)\n",
    "    def pop(self, person):\n",
    "        self.people.pop(person)\n",
    "        out_key = (self.start + self.step - 1) % len(self.people)\n",
    "        return self.people.pop(out_key)\n",
    "    def __iter__(self):\n",
    "        return self\n",
    "    def next(self):\n",
    "        if len(self.people) > 1:\n",
    "            return self.people.pop()\n",
    "        else:\n",
    "            raise StopIteration"
   ]
  },
  {
   "cell_type": "code",
   "execution_count": 24,
   "metadata": {},
   "outputs": [],
   "source": [
    "class Player(counter):\n",
    "    def __init__(self, name, gender, age):\n",
    "        self.name = name\n",
    "        self.gender = gender \n",
    "        self.age = age\n",
    "        counter.count += 1"
   ]
  },
  {
   "cell_type": "code",
   "execution_count": 29,
   "metadata": {
    "tags": []
   },
   "outputs": [],
   "source": [
    "data = []\n",
    "obj = {}\n",
    "person_list=[]\n",
    "each_person=[]\n",
    "file_name = \"player_list.txt\"\n",
    "def read_info(file_name):\n",
    "    f = open(file_name, 'r', encoding='utf-8')\n",
    "    for line in f.readlines():\n",
    "        eachline = line.strip(\"\\n\")\n",
    "        person_list.append(eachline)\n",
    "        for i in range(len(person_list)):\n",
    "            each_person.append(person_list[i].split(\" \"))\n",
    "            obj['player'+str(i)] = Player(each_person[i][0],each_person[i][1],each_person[i][2])\n",
    "    return each_person\n",
    "    f.close()"
   ]
  },
  {
   "cell_type": "code",
   "execution_count": 32,
   "metadata": {},
   "outputs": [
    {
     "output_type": "error",
     "ename": "TypeError",
     "evalue": "pop() missing 1 required positional argument: 'person'",
     "traceback": [
      "\u001b[1;31m---------------------------------------------------------------------------\u001b[0m",
      "\u001b[1;31mTypeError\u001b[0m                                 Traceback (most recent call last)",
      "\u001b[1;32m<ipython-input-32-26d7028e36bd>\u001b[0m in \u001b[0;36m<module>\u001b[1;34m()\u001b[0m\n\u001b[0;32m      4\u001b[0m \u001b[0mstep\u001b[0m\u001b[1;33m=\u001b[0m\u001b[0minput\u001b[0m\u001b[1;33m(\u001b[0m\u001b[1;34m\"请输入报数数字\"\u001b[0m\u001b[1;33m)\u001b[0m\u001b[1;33m\u001b[0m\u001b[0m\n\u001b[0;32m      5\u001b[0m \u001b[0mjosephus\u001b[0m \u001b[1;33m=\u001b[0m \u001b[0mJosephus\u001b[0m\u001b[1;33m(\u001b[0m\u001b[0mstart\u001b[0m\u001b[1;33m,\u001b[0m \u001b[0mstep\u001b[0m\u001b[1;33m)\u001b[0m\u001b[1;33m\u001b[0m\u001b[0m\n\u001b[1;32m----> 6\u001b[1;33m \u001b[0mprint\u001b[0m\u001b[1;33m(\u001b[0m\u001b[0mjosephus\u001b[0m\u001b[1;33m.\u001b[0m\u001b[0mpop\u001b[0m\u001b[1;33m(\u001b[0m\u001b[1;33m)\u001b[0m\u001b[1;33m)\u001b[0m\u001b[1;33m\u001b[0m\u001b[0m\n\u001b[0m",
      "\u001b[1;31mTypeError\u001b[0m: pop() missing 1 required positional argument: 'person'"
     ]
    }
   ],
   "source": [
    "file_name = \"player_list.txt\"\n",
    "people = read_info(file_name)\n",
    "start=input(\"请输入开始数字\")\n",
    "step=input(\"请输入报数数字\")\n",
    "josephus = Josephus(start, step)\n",
    "print(josephus.pop())"
   ]
  },
  {
   "cell_type": "code",
   "execution_count": 311,
   "metadata": {},
   "outputs": [],
   "source": [
    "def jose_ring(num, key):  #n为参与游戏的总人数，K为报数值\n",
    "    lst_people = list(range(1,num+1))  #创建一个人数的列表\n",
    "    i=0\n",
    "    while len(lst_people) != 1:\n",
    "        temp = lst_people.pop(0)  #第一个人放入末尾\n",
    "        i += 1\n",
    "        if i == key:  #报到第k个人\n",
    "            i = 0  #重新开始计数\n",
    "            continue\n",
    "        lst_people.append(temp)\n",
    "    the_last = str(lst_people[0])\n",
    "    print(\"最后幸存的人是：%s, 性别：%s, 年龄：%s\"%(obj['player'+the_last].name, obj['player'+the_last].gender, obj['player'+the_last].age))"
   ]
  },
  {
   "cell_type": "code",
   "execution_count": 312,
   "metadata": {
    "tags": []
   },
   "outputs": [
    {
     "output_type": "stream",
     "name": "stdout",
     "text": "最后幸存的人是：严文君, 性别：女, 年龄：22\n"
    }
   ],
   "source": [
    "if __name__ == '__main__':\n",
    "    num = counter.count\n",
    "    key = int(input(\"请输入报数值：\"))\n",
    "    jose_ring(num, key)"
   ]
  },
  {
   "cell_type": "code",
   "execution_count": 68,
   "metadata": {},
   "outputs": [],
   "source": []
  },
  {
   "cell_type": "code",
   "execution_count": null,
   "metadata": {},
   "outputs": [],
   "source": []
  }
 ],
 "metadata": {
  "language_info": {
   "codemirror_mode": {
    "name": "ipython",
    "version": 3
   },
   "file_extension": ".py",
   "mimetype": "text/x-python",
   "name": "python",
   "nbconvert_exporter": "python",
   "pygments_lexer": "ipython3",
   "version": "3.7.0-final"
  },
  "orig_nbformat": 2,
  "kernelspec": {
   "name": "python3",
   "display_name": "Python 3"
  }
 },
 "nbformat": 4,
 "nbformat_minor": 2
}