{
 "cells": [
  {
   "cell_type": "code",
   "execution_count": 3,
   "metadata": {},
   "outputs": [],
   "source": [
    "def jose_ring(n,k):  #n为参与游戏的总人数，K为报数值\n",
    "    lst_people=list(range(1,n+1))  #创建一个人数的列表\n",
    "    i=0\n",
    "    while lst_people:\n",
    "        temp=lst_people.pop(0)  #第一个人放入末尾\n",
    "        i+=1\n",
    "        if i==k:  #报到第n个人\n",
    "            i=0  #重新开始计数\n",
    "            continue\n",
    "        lst_people.append(temp)\n",
    "        if len(lst_people)==k-1: #剩下k-1人时跳出循环\n",
    "            print(lst_people)\n",
    "            break"
   ]
  },
  {
   "cell_type": "code",
   "execution_count": 4,
   "metadata": {
    "tags": []
   },
   "outputs": [
    {
     "output_type": "stream",
     "name": "stdout",
     "text": "[47, 51, 79, 26]\n"
    }
   ],
   "source": [
    "if __name__ == '__main__':\n",
    "    num=int(input(\"请输入总人数：\"))\n",
    "    key=int(input(\"请输入报数值：\"))\n",
    "    jose_ring(num,key)"
   ]
  },
  {
   "cell_type": "code",
   "execution_count": null,
   "metadata": {},
   "outputs": [],
   "source": []
  }
 ],
 "metadata": {
  "language_info": {
   "codemirror_mode": {
    "name": "ipython",
    "version": 3
   },
   "file_extension": ".py",
   "mimetype": "text/x-python",
   "name": "python",
   "nbconvert_exporter": "python",
   "pygments_lexer": "ipython3",
   "version": "3.7.0-final"
  },
  "orig_nbformat": 2,
  "kernelspec": {
   "name": "python3",
   "display_name": "Python 3"
  }
 },
 "nbformat": 4,
 "nbformat_minor": 2
}