{
 "metadata": {
  "language_info": {
   "codemirror_mode": {
    "name": "ipython",
    "version": 3
   },
   "file_extension": ".py",
   "mimetype": "text/x-python",
   "name": "python",
   "nbconvert_exporter": "python",
   "pygments_lexer": "ipython3",
   "version": "3.7.0-final"
  },
  "orig_nbformat": 2,
  "kernelspec": {
   "name": "python3",
   "display_name": "Python 3"
  }
 },
 "nbformat": 4,
 "nbformat_minor": 2,
 "cells": [
  {
   "cell_type": "code",
   "execution_count": 3,
   "metadata": {},
   "outputs": [],
   "source": [
    "import sys\n",
    "sys.path.append('F:\\python\\learn\\learning\\Josering')\n",
    "from Josephus.domain.use_case import josephus"
   ]
  },
  {
   "cell_type": "code",
   "execution_count": 4,
   "metadata": {},
   "outputs": [],
   "source": [
    "def test_josephus():\n",
    "    test_list = ['1', '2', '3']\n",
    "    test_start = 0\n",
    "    test_step = 3\n",
    "    test_jose = josephus.Josephus(int(test_start), int(test_step), test_list)\n",
    "    for i in range(len(test_list)-1):\n",
    "        test_jose.next()\n",
    "    assert test_jose.people[0] == '2'"
   ]
  }
 ]
}