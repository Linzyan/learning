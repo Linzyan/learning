{
 "metadata": {
  "language_info": {
   "codemirror_mode": {
    "name": "ipython",
    "version": 3
   },
   "file_extension": ".py",
   "mimetype": "text/x-python",
   "name": "python",
   "nbconvert_exporter": "python",
   "pygments_lexer": "ipython3",
   "version": "3.7.0-final"
  },
  "orig_nbformat": 2,
  "kernelspec": {
   "name": "python3",
   "display_name": "Python 3"
  }
 },
 "nbformat": 4,
 "nbformat_minor": 2,
 "cells": [
  {
   "cell_type": "code",
   "execution_count": 49,
   "metadata": {},
   "outputs": [],
   "source": [
    "import sys\n",
    "sys.path.append('F:\\python\\learn\\learning\\Josering')\n",
    "from Josephus.interface import output"
   ]
  },
  {
   "cell_type": "code",
   "execution_count": 50,
   "metadata": {},
   "outputs": [],
   "source": [
    "def test_out():\n",
    "    test_file = 'F:\\python\\learn\\learning\\Josering\\data\\player_list.txt'\n",
    "    test = output.Interface()\n",
    "    test.creat_reader(test_file)\n",
    "    people = test.creat_person_list()\n",
    "    assert len(people) == 6\n",
    "    test.set_start(0)\n",
    "    test.set_step(1)\n",
    "    test.creat_josephus_ring(people)\n",
    "    test.output()\n",
    "    assert test.jose.people[0].name == '崔祎璐'"
   ]
  },
  {
   "cell_type": "code",
   "execution_count": 51,
   "metadata": {
    "tags": []
   },
   "outputs": [
    {
     "output_type": "stream",
     "name": "stdout",
     "text": "[['王娇', '女', '22'], ['严文君', '女', '22'], ['邓诗弋', '女', '22'], ['王洁茹', '女', '21'], ['贺霞', '女', '20'], ['崔祎璐', '女', '22']]\n"
    }
   ],
   "source": [
    "test_out()"
   ]
  },
  {
   "cell_type": "code",
   "execution_count": null,
   "metadata": {},
   "outputs": [],
   "source": []
  }
 ]
}