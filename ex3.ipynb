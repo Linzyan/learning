{
 "cells": [
  {
   "cell_type": "code",
   "execution_count": 1,
   "metadata": {
    "tags": []
   },
   "outputs": [
    {
     "output_type": "stream",
     "name": "stdout",
     "text": "初始字符串为 how     are     you\n"
    }
   ],
   "source": [
    "str1=\"how     are     you\"\n",
    "print(\"初始字符串为\",str1)"
   ]
  },
  {
   "cell_type": "code",
   "execution_count": 6,
   "metadata": {
    "tags": []
   },
   "outputs": [
    {
     "output_type": "stream",
     "name": "stdout",
     "text": "将字符串划分为列表 ['how', '', '', '', '', 'are', '', '', '', '', 'you']\n"
    }
   ],
   "source": [
    "new_str=str1.split(\" \")\n",
    "print(\"将字符串划分为列表\",new_str)"
   ]
  },
  {
   "cell_type": "code",
   "execution_count": 4,
   "metadata": {
    "tags": []
   },
   "outputs": [
    {
     "output_type": "stream",
     "name": "stdout",
     "text": "去除空格后的列表 ['how', 'are', 'you']\n"
    }
   ],
   "source": [
    "words = [i for i in new_str if i!=\"\"]\n",
    "print(\"去除空格后的列表\",words)"
   ]
  },
  {
   "cell_type": "code",
   "execution_count": 5,
   "metadata": {
    "tags": []
   },
   "outputs": [
    {
     "output_type": "stream",
     "name": "stdout",
     "text": "最终结果为 how are you\n"
    }
   ],
   "source": [
    "str2=\" \".join(words)\n",
    "print(\"最终结果为\",str2)"
   ]
  },
  {
   "cell_type": "code",
   "execution_count": null,
   "metadata": {},
   "outputs": [],
   "source": []
  }
 ],
 "metadata": {
  "language_info": {
   "codemirror_mode": {
    "name": "ipython",
    "version": 3
   },
   "file_extension": ".py",
   "mimetype": "text/x-python",
   "name": "python",
   "nbconvert_exporter": "python",
   "pygments_lexer": "ipython3",
   "version": "3.7.0-final"
  },
  "orig_nbformat": 2,
  "kernelspec": {
   "name": "python3",
   "display_name": "Python 3"
  }
 },
 "nbformat": 4,
 "nbformat_minor": 2
}