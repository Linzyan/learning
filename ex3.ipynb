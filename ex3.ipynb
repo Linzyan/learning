{
 "cells": [
  {
   "cell_type": "code",
   "execution_count": 2,
   "metadata": {
    "tags": []
   },
   "outputs": [
    {
     "output_type": "stream",
     "name": "stdout",
     "text": "初始字符串为how     are     you\n"
    }
   ],
   "source": [
    "str_old = \"how     are     you\"\n",
    "print(\"初始字符串为%s\"%str_old)"
   ]
  },
  {
   "cell_type": "code",
   "execution_count": 3,
   "metadata": {
    "tags": []
   },
   "outputs": [
    {
     "output_type": "stream",
     "name": "stdout",
     "text": "将字符串划分为列表 ['how', '', '', '', '', 'are', '', '', '', '', 'you']\n"
    }
   ],
   "source": [
    "new_str = str_old.split(\" \")\n",
    "print(\"将字符串划分为列表\", new_str)"
   ]
  },
  {
   "cell_type": "code",
   "execution_count": 4,
   "metadata": {
    "tags": []
   },
   "outputs": [
    {
     "output_type": "stream",
     "name": "stdout",
     "text": "去除空格后的列表 ['how', 'are', 'you']\n"
    }
   ],
   "source": [
    "words = [i for i in new_str if i!=\"\"]\n",
    "print(\"去除空格后的列表\", words)"
   ]
  },
  {
   "cell_type": "code",
   "execution_count": 6,
   "metadata": {
    "tags": []
   },
   "outputs": [
    {
     "output_type": "stream",
     "name": "stdout",
     "text": "最终结果为 how are you\n"
    }
   ],
   "source": [
    "str_link = \" \".join(words)\n",
    "print(\"最终结果为\", str_link)"
   ]
  },
  {
   "cell_type": "code",
   "execution_count": null,
   "metadata": {},
   "outputs": [],
   "source": []
  }
 ],
 "metadata": {
  "language_info": {
   "codemirror_mode": {
    "name": "ipython",
    "version": 3
   },
   "file_extension": ".py",
   "mimetype": "text/x-python",
   "name": "python",
   "nbconvert_exporter": "python",
   "pygments_lexer": "ipython3",
   "version": "3.7.0-final"
  },
  "orig_nbformat": 2,
  "kernelspec": {
   "name": "python3",
   "display_name": "Python 3"
  }
 },
 "nbformat": 4,
 "nbformat_minor": 2
}