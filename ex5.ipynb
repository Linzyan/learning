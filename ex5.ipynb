{
 "cells": [
  {
   "cell_type": "code",
   "execution_count": 4,
   "metadata": {},
   "outputs": [],
   "source": [
    "from __future__ import division\n",
    "import math"
   ]
  },
  {
   "cell_type": "code",
   "execution_count": 5,
   "metadata": {},
   "outputs": [],
   "source": [
    "def quadratic_equation(a,b,c):\n",
    "    d=b*b-4*a*c\n",
    "    if d>0:\n",
    "        sqrt=math.sqrt(d)\n",
    "        x1=(-b+sqrt)/(2*a)\n",
    "        x2=(-b-sqrt)/(2*a)\n",
    "        return x1,x2\n",
    "    elif d==0:\n",
    "         x1=-(b/(2*a))\n",
    "         return x1\n",
    "    else:\n",
    "        return False"
   ]
  },
  {
   "cell_type": "code",
   "execution_count": 6,
   "metadata": {
    "tags": []
   },
   "outputs": [
    {
     "output_type": "stream",
     "name": "stdout",
     "text": "该方程无解\n"
    }
   ],
   "source": [
    "if __name__==\"__main__\":\n",
    "    a=int(input(\"a=\"))\n",
    "    b=int(input(\"b=\"))\n",
    "    c=int(input(\"c=\"))\n",
    "    result=quadratic_equation(a,b,c)\n",
    "    if result==False:\n",
    "        print(\"该方程无解\")\n",
    "    else:\n",
    "        print(result)"
   ]
  },
  {
   "cell_type": "code",
   "execution_count": null,
   "metadata": {},
   "outputs": [],
   "source": []
  }
 ],
 "metadata": {
  "language_info": {
   "codemirror_mode": {
    "name": "ipython",
    "version": 3
   },
   "file_extension": ".py",
   "mimetype": "text/x-python",
   "name": "python",
   "nbconvert_exporter": "python",
   "pygments_lexer": "ipython3",
   "version": "3.7.0-final"
  },
  "orig_nbformat": 2,
  "kernelspec": {
   "name": "python3",
   "display_name": "Python 3"
  }
 },
 "nbformat": 4,
 "nbformat_minor": 2
}