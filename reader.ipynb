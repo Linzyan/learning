{
 "metadata": {
  "language_info": {
   "codemirror_mode": {
    "name": "ipython",
    "version": 3
   },
   "file_extension": ".py",
   "mimetype": "text/x-python",
   "name": "python",
   "nbconvert_exporter": "python",
   "pygments_lexer": "ipython3",
   "version": "3.7.0-final"
  },
  "orig_nbformat": 2,
  "kernelspec": {
   "name": "python3",
   "display_name": "Python 3"
  }
 },
 "nbformat": 4,
 "nbformat_minor": 2,
 "cells": [
  {
   "cell_type": "code",
   "execution_count": 207,
   "metadata": {},
   "outputs": [],
   "source": [
    "import csv\n",
    "import zipfile\n",
    "from pathlib import Path"
   ]
  },
  {
   "cell_type": "code",
   "execution_count": 208,
   "metadata": {},
   "outputs": [],
   "source": [
    "file_name = \"player_list.txt\""
   ]
  },
  {
   "cell_type": "code",
   "execution_count": 209,
   "metadata": {},
   "outputs": [],
   "source": [
    "#-*- coding: utf-8 -*-"
   ]
  },
  {
   "cell_type": "code",
   "execution_count": 213,
   "metadata": {},
   "outputs": [],
   "source": [
    "class Reader(object):\n",
    "    def __init__(self, file_name):\n",
    "        self.file_name = file_name\n",
    "        self.content = []\n",
    "    def txt_reader(self):\n",
    "        f = open(file_name, 'r', encoding='utf-8')\n",
    "        for line in f.readlines():\n",
    "            eachline = line.strip(\"\\n\")\n",
    "            self.content.append(eachline.split())\n",
    "        f.close()\n",
    "        return self.content\n",
    "    def csv_reader(self):\n",
    "        with open(self.file_name) as f:\n",
    "            reader = csv.reader(f)\n",
    "            for row in reader:\n",
    "                eachrow = row[0].strip(\"/t\")\n",
    "                self.content.append(eachrow.split())\n",
    "        print(self.content)\n",
    "    def zip_reader(self):\n",
    "        file_list = zipfile.ZipFile(self.file_name, \"r\")\n",
    "        for each_file in file_list.namelist():\n",
    "            print(\"file:\", each_file)\n",
    "        index = input(\"需要阅读第几个文件？（请用阿拉伯数字输入）\")\n",
    "        read_name = file_list.namelist()[int(index) - 1]\n",
    "        content = file_list.open(read_name, 'r')\n",
    "        for line in content.readlines():\n",
    "            line = line.decode(\"utf-8\")\n",
    "            self.content.append(line.split())\n",
    "        print(self.content)"
   ]
  },
  {
   "cell_type": "code",
   "execution_count": 214,
   "metadata": {
    "tags": []
   },
   "outputs": [
    {
     "output_type": "execute_result",
     "data": {
      "text/plain": "[['王娇', '女', '22'],\n ['严文君', '女', '22'],\n ['邓诗弋', '女', '22'],\n ['王洁茹', '女', '21'],\n ['贺霞', '女', '20'],\n ['崔祎璐', '女', '22']]"
     },
     "metadata": {},
     "execution_count": 214
    }
   ],
   "source": [
    "f_txt = Reader(\"player_list.txt\")\n",
    "f_txt.txt_reader()"
   ]
  },
  {
   "cell_type": "code",
   "execution_count": 215,
   "metadata": {
    "tags": []
   },
   "outputs": [
    {
     "output_type": "stream",
     "name": "stdout",
     "text": "[['王娇', '女', '22'], ['严文君', '女', '22'], ['邓诗弋', '女', '22'], ['王洁茹', '女', '21'], ['贺霞', '女', '20'], ['崔祎璐', '女', '22']]\n"
    }
   ],
   "source": [
    "f_csv = Reader(\"player.csv\")\n",
    "f_csv.csv_reader()"
   ]
  },
  {
   "cell_type": "code",
   "execution_count": 216,
   "metadata": {
    "tags": []
   },
   "outputs": [
    {
     "output_type": "stream",
     "name": "stdout",
     "text": "file: player_list.txt\n[['王娇', '女', '22'], ['严文君', '女', '22'], ['邓诗弋', '女', '22'], ['王洁茹', '女', '21'], ['贺霞', '女', '20'], ['崔祎璐', '女', '22']]\n"
    }
   ],
   "source": [
    "f_zip = Reader(\"player.zip\")\n",
    "f_zip.zip_reader()"
   ]
  },
  {
   "cell_type": "code",
   "execution_count": null,
   "metadata": {},
   "outputs": [],
   "source": []
  }
 ]
}