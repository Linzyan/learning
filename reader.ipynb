{
 "metadata": {
  "language_info": {
   "codemirror_mode": {
    "name": "ipython",
    "version": 3
   },
   "file_extension": ".py",
   "mimetype": "text/x-python",
   "name": "python",
   "nbconvert_exporter": "python",
   "pygments_lexer": "ipython3",
   "version": "3.7.0-final"
  },
  "orig_nbformat": 2,
  "kernelspec": {
   "name": "python3",
   "display_name": "Python 3"
  }
 },
 "nbformat": 4,
 "nbformat_minor": 2,
 "cells": [
  {
   "cell_type": "code",
   "execution_count": 358,
   "metadata": {},
   "outputs": [],
   "source": [
    "# 实现三种类分装，统一接口"
   ]
  },
  {
   "cell_type": "code",
   "execution_count": 359,
   "metadata": {},
   "outputs": [],
   "source": [
    "import os\n",
    "import csv\n",
    "import zipfile\n",
    "from pathlib import Path"
   ]
  },
  {
   "cell_type": "code",
   "execution_count": 360,
   "metadata": {},
   "outputs": [],
   "source": [
    "#-*- coding: utf-8 -*-"
   ]
  },
  {
   "cell_type": "code",
   "execution_count": 361,
   "metadata": {},
   "outputs": [],
   "source": [
    "class Reader(object):\n",
    "    def __init__(self, file_name):\n",
    "        self.file_name = file_name\n",
    "        self.path = os.path.splitext(file_name)[1]\n",
    "        for x in Reader.__subclasses__():\n",
    "            if self.path == x.path:\n",
    "                self.func = x(file_name)\n",
    "    def read_file(self):\n",
    "        return self.func.read_file()"
   ]
  },
  {
   "cell_type": "code",
   "execution_count": 362,
   "metadata": {},
   "outputs": [],
   "source": [
    "class Text_reader(Reader):\n",
    "    path = \".txt\"\n",
    "    def __init__(self, file_name):\n",
    "        self.file_name = file_name\n",
    "        self.content = []\n",
    "    def read_file(self):\n",
    "        f = open(file_name, 'r', encoding='utf-8')\n",
    "        for line in f.readlines():\n",
    "            eachline = line.strip(\"\\n\")\n",
    "            self.content.append(eachline.split())\n",
    "        f.close()\n",
    "        print(self.content)"
   ]
  },
  {
   "cell_type": "code",
   "execution_count": 363,
   "metadata": {},
   "outputs": [],
   "source": [
    "class Csv_reader(Reader):\n",
    "    path = \".csv\"\n",
    "    def __init__(self, file_name):\n",
    "        self.file_name = file_name\n",
    "        self.content = []\n",
    "    def read_file(self):\n",
    "        with open(self.file_name) as f:\n",
    "            reader = csv.reader(f)\n",
    "            for row in reader:\n",
    "                eachrow = row[0].strip(\"/t\")\n",
    "                self.content.append(eachrow.split())\n",
    "        print(self.content)"
   ]
  },
  {
   "cell_type": "code",
   "execution_count": 367,
   "metadata": {},
   "outputs": [],
   "source": [
    "class Zip_reader(Reader):\n",
    "    path = \".zip\"\n",
    "    def __init__(self, file_name):\n",
    "        self.file_name = file_name\n",
    "        self.content = []\n",
    "    def read_file(self):\n",
    "        file_list = zipfile.ZipFile(self.file_name, \"r\")\n",
    "        for each_file in file_list.namelist():\n",
    "            print(\"file:\", each_file)\n",
    "        index = input(\"需要阅读第几个文件？（请用阿拉伯数字输入）\")\n",
    "        read_name = file_list.namelist()[int(index) - 1]\n",
    "        content = file_list.open(read_name, 'r')\n",
    "        for line in content.readlines():\n",
    "            line = line.decode(\"utf-8\")\n",
    "            self.content.append(line.split())\n",
    "        print(self.content)"
   ]
  },
  {
   "cell_type": "code",
   "execution_count": 364,
   "metadata": {
    "tags": []
   },
   "outputs": [
    {
     "output_type": "stream",
     "name": "stdout",
     "text": "[['王娇', '女', '22'], ['严文君', '女', '22'], ['邓诗弋', '女', '22'], ['王洁茹', '女', '21'], ['贺霞', '女', '20'], ['崔祎璐', '女', '22']]\n"
    }
   ],
   "source": [
    "f_txt = Reader(\"player_list.txt\")\n",
    "f_txt.read_file()"
   ]
  },
  {
   "cell_type": "code",
   "execution_count": 365,
   "metadata": {
    "tags": []
   },
   "outputs": [
    {
     "output_type": "stream",
     "name": "stdout",
     "text": "[['王娇', '女', '22'], ['严文君', '女', '22'], ['邓诗弋', '女', '22'], ['王洁茹', '女', '21'], ['贺霞', '女', '20'], ['崔祎璐', '女', '22']]\n"
    }
   ],
   "source": [
    "f_csv = Csv_reader(\"player.csv\")\n",
    "f_csv.read_file()"
   ]
  },
  {
   "cell_type": "code",
   "execution_count": 368,
   "metadata": {
    "tags": []
   },
   "outputs": [
    {
     "output_type": "stream",
     "name": "stdout",
     "text": "file: player_list.txt\n[['王娇', '女', '22'], ['严文君', '女', '22'], ['邓诗弋', '女', '22'], ['王洁茹', '女', '21'], ['贺霞', '女', '20'], ['崔祎璐', '女', '22']]\n"
    }
   ],
   "source": [
    "f_zip = Reader(\"player.zip\")\n",
    "f_zip.read_file()"
   ]
  },
  {
   "cell_type": "code",
   "execution_count": null,
   "metadata": {},
   "outputs": [],
   "source": []
  }
 ]
}