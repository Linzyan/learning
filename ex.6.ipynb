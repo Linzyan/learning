{
 "cells": [
  {
   "cell_type": "code",
   "execution_count": 42,
   "metadata": {},
   "outputs": [],
   "source": [
    "def average_score(scores):\n",
    "    score_values=scores.values()\n",
    "    score_sum=sum(score_values)\n",
    "    score_average=score_sum/len(score_values)\n",
    "    return score_average"
   ]
  },
  {
   "cell_type": "code",
   "execution_count": 77,
   "metadata": {},
   "outputs": [],
   "source": [
    "def sort_score(scores):\n",
    "    list_score=[(scores[i],i) for i in scores]\n",
    "    score_sort=sorted(list_score,reverse=True)\n",
    "    return [(i[1], i[0]) for i in score_sort]"
   ]
  },
  {
   "cell_type": "code",
   "execution_count": 44,
   "metadata": {},
   "outputs": [],
   "source": [
    "def max_score(scores):\n",
    "    list_score=sort_score(scores)\n",
    "    return list_score[0][1]"
   ]
  },
  {
   "cell_type": "code",
   "execution_count": 45,
   "metadata": {},
   "outputs": [],
   "source": [
    "def min_score(scores):\n",
    "    list_score=sort_score(scores)\n",
    "    return list_score[len(scores)-1][1]"
   ]
  },
  {
   "cell_type": "code",
   "execution_count": 85,
   "metadata": {
    "tags": []
   },
   "outputs": [
    {
     "output_type": "stream",
     "name": "stdout",
     "text": "学生的平均分是78.500000\n学生的成绩表 [('zhangsan', 99), ('lisi', 80), ('zhang', 75), ('wang', 60)]\n最高分 99\n最低分 60\n"
    }
   ],
   "source": [
    "if __name__ == \"__main__\":\n",
    "    student_scores={\"zhangsan\":99,\"lisi\":80,\"wang\":60,\"zhang\":75}\n",
    "    average=average_score(student_scores) \n",
    "    print(\"学生的平均分是%f\"%average)\n",
    "    score_list=sort_score(student_scores)\n",
    "    print(\"学生的成绩表\",score_list)\n",
    "    score_max=max_score(student_scores)\n",
    "    print(\"最高分\",score_max)\n",
    "    score_min=min_score(student_scores)\n",
    "    print(\"最低分\",score_min)\n",
    "  "
   ]
  }
 ],
 "metadata": {
  "language_info": {
   "codemirror_mode": {
    "name": "ipython",
    "version": 3
   },
   "file_extension": ".py",
   "mimetype": "text/x-python",
   "name": "python",
   "nbconvert_exporter": "python",
   "pygments_lexer": "ipython3",
   "version": "3.7.0-final"
  },
  "orig_nbformat": 2,
  "kernelspec": {
   "name": "python3",
   "display_name": "Python 3"
  }
 },
 "nbformat": 4,
 "nbformat_minor": 2
}