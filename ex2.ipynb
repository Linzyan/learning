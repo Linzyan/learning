{
 "cells": [
  {
   "cell_type": "code",
   "execution_count": 42,
   "metadata": {
    "tags": []
   },
   "outputs": [
    {
     "output_type": "stream",
     "name": "stdout",
     "text": "学生成绩 [25, 86, 64, 30, 90, 74, 92, 71, 88, 18, 47, 91, 76, 15, 10, 81, 39, 34, 48, 41, 9, 63, 57, 14, 64, 28, 72, 65, 33, 86, 46, 94, 100, 53, 88, 47, 88, 97, 12, 25]\n"
    }
   ],
   "source": [
    "import random\n",
    "score_list = [random.randint(0,100) for i in range(40)]\n",
    "print (\"学生成绩\", score_list) "
   ]
  },
  {
   "cell_type": "code",
   "execution_count": 43,
   "metadata": {},
   "outputs": [],
   "source": [
    "sum_score = sum(score_list)"
   ]
  },
  {
   "cell_type": "code",
   "execution_count": 44,
   "metadata": {
    "tags": []
   },
   "outputs": [
    {
     "output_type": "stream",
     "name": "stdout",
     "text": "学生的平均分为 56.525\n"
    }
   ],
   "source": [
    "avg = sum_score/40\n",
    "print(\"学生的平均分为\", avg)"
   ]
  },
  {
   "cell_type": "code",
   "execution_count": 45,
   "metadata": {
    "tags": []
   },
   "outputs": [
    {
     "output_type": "stream",
     "name": "stdout",
     "text": "成绩低于平均分的有19人\n"
    }
   ],
   "source": [
    "less_length = 0\n",
    "for x in score_list: \n",
    "    if (x < avg): \n",
    "        less_length+=1\n",
    "print(\"成绩低于平均分的有%d人\"%less_length)"
   ]
  },
  {
   "cell_type": "code",
   "execution_count": 46,
   "metadata": {
    "tags": []
   },
   "outputs": [
    {
     "output_type": "stream",
     "name": "stdout",
     "text": "排序后 [9, 10, 12, 14, 15, 18, 25, 25, 28, 30, 33, 34, 39, 41, 46, 47, 47, 48, 53, 57, 63, 64, 64, 65, 71, 72, 74, 76, 81, 86, 86, 88, 88, 88, 90, 91, 92, 94, 97, 100]\n"
    }
   ],
   "source": [
    "score_ascend = score_list.sort(reverse=False)\n",
    "print (\"排序后\", score_list)"
   ]
  },
  {
   "cell_type": "code",
   "execution_count": null,
   "metadata": {},
   "outputs": [],
   "source": []
  }
 ],
 "metadata": {
  "language_info": {
   "codemirror_mode": {
    "name": "ipython",
    "version": 3
   },
   "file_extension": ".py",
   "mimetype": "text/x-python",
   "name": "python",
   "nbconvert_exporter": "python",
   "pygments_lexer": "ipython3",
   "version": "3.7.0-final"
  },
  "orig_nbformat": 2,
  "kernelspec": {
   "name": "python3",
   "display_name": "Python 3"
  }
 },
 "nbformat": 4,
 "nbformat_minor": 2
}