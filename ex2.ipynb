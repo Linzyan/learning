{
 "cells": [
  {
   "cell_type": "code",
   "execution_count": 2,
   "metadata": {
    "tags": []
   },
   "outputs": [
    {
     "output_type": "stream",
     "name": "stdout",
     "text": "[43, 9, 42, 74, 59, 7, 35, 21, 48, 76, 84, 33, 15, 59, 41, 91, 87, 2, 82, 34, 97, 71, 37, 21, 3, 0, 1, 6, 22, 76, 14, 65, 22, 84, 19, 67, 9, 89, 36, 14]\n"
    }
   ],
   "source": [
    "import random\n",
    "m = [random.randint(0,100) for i in range(40)]\n",
    "print (m) \n"
   ]
  },
  {
   "cell_type": "code",
   "execution_count": 3,
   "metadata": {},
   "outputs": [
    {
     "output_type": "execute_result",
     "data": {
      "text/plain": "1695"
     },
     "metadata": {},
     "execution_count": 3
    }
   ],
   "source": [
    "summ = sum(m)\n",
    "summ"
   ]
  },
  {
   "cell_type": "code",
   "execution_count": 4,
   "metadata": {
    "tags": []
   },
   "outputs": [
    {
     "output_type": "stream",
     "name": "stdout",
     "text": "42.375\n"
    }
   ],
   "source": [
    "avg=summ/40\n",
    "print(avg)"
   ]
  },
  {
   "cell_type": "code",
   "execution_count": 5,
   "metadata": {
    "tags": []
   },
   "outputs": [
    {
     "output_type": "stream",
     "name": "stdout",
     "text": "成绩低于平均分的有23人\n"
    }
   ],
   "source": [
    "less_length=len([x for x in m if x<avg])\n",
    "print(\"成绩低于平均分的有%d人\"%less_length)"
   ]
  },
  {
   "cell_type": "code",
   "execution_count": 6,
   "metadata": {
    "tags": []
   },
   "outputs": [
    {
     "output_type": "execute_result",
     "data": {
      "text/plain": "40"
     },
     "metadata": {},
     "execution_count": 6
    }
   ],
   "source": [
    "lenth=len(m)\n",
    "lenth"
   ]
  },
  {
   "cell_type": "code",
   "execution_count": 14,
   "metadata": {
    "tags": []
   },
   "outputs": [
    {
     "output_type": "stream",
     "name": "stdout",
     "text": "[0, 1, 2, 3, 6, 7, 9, 9, 14, 14, 15, 19, 21, 21, 22, 22, 33, 34, 35, 36, 37, 41, 42, 43, 48, 59, 59, 65, 67, 71, 74, 76, 76, 82, 84, 84, 87, 89, 91, 97]\n"
    }
   ],
   "source": [
    "shunxu=m.sort(reverse=False)\n",
    "print (m)"
   ]
  },
  {
   "cell_type": "code",
   "execution_count": null,
   "metadata": {},
   "outputs": [],
   "source": []
  }
 ],
 "metadata": {
  "language_info": {
   "codemirror_mode": {
    "name": "ipython",
    "version": 3
   },
   "file_extension": ".py",
   "mimetype": "text/x-python",
   "name": "python",
   "nbconvert_exporter": "python",
   "pygments_lexer": "ipython3",
   "version": "3.7.0-final"
  },
  "orig_nbformat": 2,
  "kernelspec": {
   "name": "python3",
   "display_name": "Python 3"
  }
 },
 "nbformat": 4,
 "nbformat_minor": 2
}