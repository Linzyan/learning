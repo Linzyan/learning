{
 "cells": [
  {
   "cell_type": "code",
   "execution_count": 15,
   "metadata": {
    "tags": []
   },
   "outputs": [
    {
     "output_type": "stream",
     "name": "stdout",
     "text": "学生成绩 [34, 36, 24, 32, 22, 58, 5, 86, 88, 22, 26, 18, 30, 16, 34, 54, 8, 64, 78, 90, 13, 47, 81, 75, 34, 76, 72, 82, 49, 48, 34, 38, 72, 36, 25, 19, 72, 83, 27, 33]\n"
    }
   ],
   "source": [
    "import random\n",
    "score_lst= [random.randint(0,100) for i in range(40)]\n",
    "print (\"学生成绩\",score_lst) \n"
   ]
  },
  {
   "cell_type": "code",
   "execution_count": 16,
   "metadata": {},
   "outputs": [],
   "source": [
    "sum_score= sum(score_lst)"
   ]
  },
  {
   "cell_type": "code",
   "execution_count": 17,
   "metadata": {
    "tags": []
   },
   "outputs": [
    {
     "output_type": "stream",
     "name": "stdout",
     "text": "学生的平均分为 46.025\n"
    }
   ],
   "source": [
    "avg=sum_score/40\n",
    "print(\"学生的平均分为\",avg)"
   ]
  },
  {
   "cell_type": "code",
   "execution_count": 18,
   "metadata": {
    "tags": []
   },
   "outputs": [
    {
     "output_type": "stream",
     "name": "stdout",
     "text": "成绩低于平均分的有22人\n"
    }
   ],
   "source": [
    "less_length=len([x for x in score_lst if x<avg])\n",
    "print(\"成绩低于平均分的有%d人\"%less_length)"
   ]
  },
  {
   "cell_type": "code",
   "execution_count": 20,
   "metadata": {
    "tags": []
   },
   "outputs": [
    {
     "output_type": "stream",
     "name": "stdout",
     "text": "排序后 [5, 8, 13, 16, 18, 19, 22, 22, 24, 25, 26, 27, 30, 32, 33, 34, 34, 34, 34, 36, 36, 38, 47, 48, 49, 54, 58, 64, 72, 72, 72, 75, 76, 78, 81, 82, 83, 86, 88, 90]\n"
    }
   ],
   "source": [
    "score_sort=score_lst.sort(reverse=False)\n",
    "print (\"排序后\",score_lst)"
   ]
  },
  {
   "cell_type": "code",
   "execution_count": null,
   "metadata": {},
   "outputs": [],
   "source": []
  }
 ],
 "metadata": {
  "language_info": {
   "codemirror_mode": {
    "name": "ipython",
    "version": 3
   },
   "file_extension": ".py",
   "mimetype": "text/x-python",
   "name": "python",
   "nbconvert_exporter": "python",
   "pygments_lexer": "ipython3",
   "version": "3.7.0-final"
  },
  "orig_nbformat": 2,
  "kernelspec": {
   "name": "python3",
   "display_name": "Python 3"
  }
 },
 "nbformat": 4,
 "nbformat_minor": 2
}